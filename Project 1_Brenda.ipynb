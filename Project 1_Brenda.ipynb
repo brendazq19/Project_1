{
 "cells": [
  {
   "cell_type": "markdown",
   "metadata": {},
   "source": [
    "<img src=\"http://imgur.com/1ZcRyrc.png\" style=\"float: left; margin: 20px; height: 55px\">\n",
    "\n",
    "# Project 1: Python Coding Exercises\n",
    "\n",
    "_Authors: Joseph Nelson (DC)_\n",
    "\n",
    "---"
   ]
  },
  {
   "cell_type": "markdown",
   "metadata": {},
   "source": [
    "The following code challenges are drawn from common exercises used in technical interviews.\n",
    "\n",
    "Please note that there may be several ways to approach each challenge. If you get stuck, try mapping out your approach in pseudocode first. Finally, while solutions to problems like these may be found online, remember that if you copy/paste code that you can't explain, you'll be missing out on the point of the project. The only way to truly learn a new skill is through practice, trial, and error - we can only help you improve by understanding where you are having trouble."
   ]
  },
  {
   "cell_type": "markdown",
   "metadata": {},
   "source": [
    "### Challenge 1: Largest Palindrome\n",
    "A palindromic number reads the same both ways. For example, 1234321 is a palindrome. The largest palindrome made from the product of two two-digit numbers is 9009 = 91 × 99. Find the largest palindrome made from the product of two three-digit numbers. Afterward, write a brief explanation walking through your code's logic in markdown."
   ]
  },
  {
   "cell_type": "code",
   "execution_count": 99,
   "metadata": {},
   "outputs": [
    {
     "name": "stdout",
     "output_type": "stream",
     "text": [
      "906609\n"
     ]
    }
   ],
   "source": [
    "max_pal = 0\n",
    "for i in range(100,999):\n",
    "    for j in range(100,999):\n",
    "        mult = i * j \n",
    "        if str(mult) == str(mult)[::-1]: \n",
    "            if mult > max_pal: \n",
    "                max_pal = mult\n",
    "print (max_pal)"
   ]
  },
  {
   "cell_type": "markdown",
   "metadata": {
    "collapsed": true
   },
   "source": [
    "First, we need to start our number from zero, let's make the max_pal be our final number, and i, j will be the ideal number we are looking for, and max_pal should be eventually equal to i*j. so let's start with a for loop, we know i is three-digit numbers, so i should between 100 and 999, as well as j. And, we want to loop i, and j seperately, we need two for loops, the first for loop, we iterate i, and we going to the second for loop with j, and we need a temperary number \"mult\", evetually, this number will be replaced by max_pal. so if str(mult) = reverse str(mult) then this is the number we are looking for, then we make max_pal = mult. Becasue number can't have reverse, so we use string(mult) to reverse the number. And at the end, we can print our final product, print(max_pal), we get 906609."
   ]
  },
  {
   "cell_type": "markdown",
   "metadata": {},
   "source": [
    "\n",
    "### Challenge 2: Summation of Primes\n",
    "The sum of the primes below 10 is 2 + 3 + 5 + 7 = 17. Find the sum of all the primes below 2,000. Afterward, write a brief explanation walking through your code's logic in markdown."
   ]
  },
  {
   "cell_type": "code",
   "execution_count": 6,
   "metadata": {},
   "outputs": [
    {
     "name": "stdout",
     "output_type": "stream",
     "text": [
      "277050\n"
     ]
    }
   ],
   "source": [
    "sum = 0\n",
    "for val in range(1,2000): \n",
    "    if val > 1: \n",
    "        for n in range(2, val): \n",
    "            if val % n == 0: \n",
    "                break\n",
    "        else: \n",
    "            sum += val \n",
    "print(sum)"
   ]
  },
  {
   "cell_type": "markdown",
   "metadata": {
    "collapsed": true
   },
   "source": [
    "First, we have a number start with 0,  and we need a for loop to give us a range of 1 to 2000, because the question says below 2000, so 2000 is not included. Then, to find a prime number, we need to make sure the number we iterate can't be divided by any previous number. So we start a new for loop, because a prime numbe can be divide by 1 and itself, so we can start the range from 2. This loop is to iterate from 2 to up to the number in the previous loop, if the number can be divided in this loop, val % n equal to 0. We want to break, because this number won't be a prime number, else we want to add this number to our sum, so we have else, sum equal to sum + val. After we iterate all numbers in the range, we should get sum of all prime numbers, at the end we print(sum) is 277050."
   ]
  },
  {
   "cell_type": "markdown",
   "metadata": {},
   "source": [
    "### Challenge 3: Multiples of 3 and 5\n",
    "If we list all of the natural numbers below 10 that are multiples of 3 or 5, we get 3, 5, 6, and 9. The sum of these multiples is 23. Find the sum of all the multiples of 3 and 5 below 1,000. Afterward, write a brief explanation walking through your code's logic in markdown."
   ]
  },
  {
   "cell_type": "code",
   "execution_count": 39,
   "metadata": {},
   "outputs": [
    {
     "name": "stdout",
     "output_type": "stream",
     "text": [
      "60\n"
     ]
    }
   ],
   "source": [
    "sum = 0\n",
    "for number in range(1,1000):\n",
    "    if number % 3 == 0 or number % 5 == 0:\n",
    "        sum += number\n",
    "        \n",
    "print(sum)"
   ]
  },
  {
   "cell_type": "markdown",
   "metadata": {},
   "source": [
    "First, we create a number that start with 0, and make this number the sum of all the multiples we want, later on we are adding the number to this sum to achive our goal. Next, we need to create a for loop to iterate all the natural numbers that satisfy our condition, which is natural number are multiples of 3 or 5, so we have number mode 3 or 5 equal to zero. Then, for each satisfied number, we are adding it to the sum. After we iterate all the numbers in the range, at the end we print the final sum."
   ]
  },
  {
   "cell_type": "markdown",
   "metadata": {},
   "source": [
    "### Challenge 4: String Compressor\n",
    "Implement a method to perform basic string compression using the counts of repeated characters. (This is called run-length encoding.) For example, the string \"aabcccccaaa\" would become a2b1c5a3. If the “compressed” string would not become smaller than the original string, your method should return the original string. You can assume the string has only uppercase and lowercase letters (a–z). Specify whether your solution is case sensitive or case insensitive and what you would need to change to make it the other. Afterward, write a brief explanation walking through your code's logic in markdown."
   ]
  },
  {
   "cell_type": "code",
   "execution_count": 11,
   "metadata": {
    "collapsed": true
   },
   "outputs": [],
   "source": [
    "def compressor(s):\n",
    "\n",
    "    new_s = \"\"\n",
    "    count = 1\n",
    "\n",
    "    new_s += s[0]\n",
    "\n",
    "    for i in range(len(s)-1):\n",
    "        if s[i] == s[i+1]:\n",
    "            count+=1\n",
    "        else:\n",
    "            if count > 1:\n",
    "                new_s += str(count)\n",
    "            new_s += s[i+1]\n",
    "            count = 1\n",
    "    #print last one\n",
    "    if count > 1:\n",
    "        new_s += str(count)\n",
    "    return new_s"
   ]
  },
  {
   "cell_type": "code",
   "execution_count": 12,
   "metadata": {},
   "outputs": [
    {
     "data": {
      "text/plain": [
       "'ab5c3de2fg'"
      ]
     },
     "execution_count": 12,
     "metadata": {},
     "output_type": "execute_result"
    }
   ],
   "source": [
    "compressor(\"abbbbbcccdeefg\")"
   ]
  },
  {
   "cell_type": "markdown",
   "metadata": {},
   "source": [
    "First we need to define our function, and we make a empty string, new_s is our empty string. And we start counting the number from 1, assume the letter show up once, we can update this later by adding more to the count. For the new string, let's add in the first character s[0], and then we start iterate through the for loop, we need to skip the last one and deal with it later.So this for loop will have range equal to length of the string but not the last one, so range(len(s)-1), and we know the character is equal to the character after, we will add 1 to our count, else, if our count is greater than one, we need to ignore the repeat, and new string just equal to the last character, and count = 1, so this character only show up once. Then, we want to get outside of this for loop to print the last character once, so we have count >1, our new string needs to add the last character. After the loop is finished, at the end we return the new string."
   ]
  },
  {
   "cell_type": "markdown",
   "metadata": {},
   "source": [
    "### *BONUS* Challenge: FizzBuzz\n",
    "Write a program that prints all of the numbers from 1 to 100. For multiples of 3, instead of the number, print \"Fizz;\" for multiples of 5, print \"Buzz.\" For numbers that are multiples of both 3 and 5, print \"FizzBuzz.\" Afterward, write a brief explanation walking through your code's logic in markdown."
   ]
  },
  {
   "cell_type": "code",
   "execution_count": 1,
   "metadata": {},
   "outputs": [
    {
     "name": "stdout",
     "output_type": "stream",
     "text": [
      "1\n",
      "2\n",
      "Fizz\n",
      "4\n",
      "Buzz\n",
      "Fizz\n",
      "7\n",
      "8\n",
      "Fizz\n",
      "Buzz\n",
      "11\n",
      "Fizz\n",
      "13\n",
      "14\n",
      "FizzBuzz\n",
      "16\n",
      "17\n",
      "Fizz\n",
      "19\n",
      "Buzz\n",
      "Fizz\n",
      "22\n",
      "23\n",
      "Fizz\n",
      "Buzz\n",
      "26\n",
      "Fizz\n",
      "28\n",
      "29\n",
      "FizzBuzz\n",
      "31\n",
      "32\n",
      "Fizz\n",
      "34\n",
      "Buzz\n",
      "Fizz\n",
      "37\n",
      "38\n",
      "Fizz\n",
      "Buzz\n",
      "41\n",
      "Fizz\n",
      "43\n",
      "44\n",
      "FizzBuzz\n",
      "46\n",
      "47\n",
      "Fizz\n",
      "49\n",
      "Buzz\n",
      "Fizz\n",
      "52\n",
      "53\n",
      "Fizz\n",
      "Buzz\n",
      "56\n",
      "Fizz\n",
      "58\n",
      "59\n",
      "FizzBuzz\n",
      "61\n",
      "62\n",
      "Fizz\n",
      "64\n",
      "Buzz\n",
      "Fizz\n",
      "67\n",
      "68\n",
      "Fizz\n",
      "Buzz\n",
      "71\n",
      "Fizz\n",
      "73\n",
      "74\n",
      "FizzBuzz\n",
      "76\n",
      "77\n",
      "Fizz\n",
      "79\n",
      "Buzz\n",
      "Fizz\n",
      "82\n",
      "83\n",
      "Fizz\n",
      "Buzz\n",
      "86\n",
      "Fizz\n",
      "88\n",
      "89\n",
      "FizzBuzz\n",
      "91\n",
      "92\n",
      "Fizz\n",
      "94\n",
      "Buzz\n",
      "Fizz\n",
      "97\n",
      "98\n",
      "Fizz\n",
      "Buzz\n"
     ]
    }
   ],
   "source": [
    "for number in range(1,101):\n",
    "    if number % 3 == 0 and number % 5 == 0:\n",
    "        print('FizzBuzz')\n",
    "    elif number % 3 == 0:\n",
    "        print('Fizz')\n",
    "    elif number % 5 == 0:\n",
    "        print('Buzz')\n",
    "    else:\n",
    "        print(number)"
   ]
  },
  {
   "cell_type": "markdown",
   "metadata": {},
   "source": [
    "First, we need a range function to give us 1 to 100 numbers.Because the range function does not include the last number, so we need range(1,101) so we have 100 as our last number. Then, we create a for loop to inirate all number,so we have number % 3 equal to 0 and number % 5 equal to 0，then instead print these number, we want to print(\"FizzBuzz\"). The next step is if number can only be divide by 3, number % 3 ==0 then we print(\"Fizz\"), and if number can only be divide by 5, number %5 ==0, we print (\"Buzz\"). If number doesn't meet any of these condition, we want to just print the number itself, so we have print(number)."
   ]
  }
 ],
 "metadata": {
  "anaconda-cloud": {},
  "kernelspec": {
   "display_name": "Python 3",
   "language": "python",
   "name": "python3"
  },
  "language_info": {
   "codemirror_mode": {
    "name": "ipython",
    "version": 3
   },
   "file_extension": ".py",
   "mimetype": "text/x-python",
   "name": "python",
   "nbconvert_exporter": "python",
   "pygments_lexer": "ipython3",
   "version": "3.6.1"
  }
 },
 "nbformat": 4,
 "nbformat_minor": 2
}
